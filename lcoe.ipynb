{
 "cells": [
  {
   "cell_type": "code",
   "execution_count": 1,
   "metadata": {},
   "outputs": [],
   "source": [
    "import numpy as np\n",
    "import numpy_financial as npf\n",
    "import pandas as pd\n",
    "import pprint\n",
    "%matplotlib inline\n",
    "import matplotlib.pyplot as plt\n",
    "import seaborn as sns\n",
    "sns.set()\n",
    "import yaml\n",
    "import copy\n",
    "import scipy"
   ]
  },
  {
   "cell_type": "code",
   "execution_count": 2,
   "metadata": {},
   "outputs": [],
   "source": [
    "class LCOEModel:\n",
    "    \"\"\"\n",
    "    Class to reproduce Lazard's LCOE results. Monetary amounts are in millions.\n",
    "    https://www.lazard.com/media/450784/lazards-levelized-cost-of-energy-version-120-vfinal.pdf\n",
    "    Construction time does not count because it is included in the capital cost.\n",
    "    \"\"\"\n",
    "    def __init__(self, capacity_mw, capacity_factor, fixed_oam_per_kw, capital_cost_per_kw, lifetime,\n",
    "                 variable_oam_per_mwh=0, fuel_cost_per_mbtu=0, heat_rate_btu_per_kwh=0, oam_esc_rate=0.0225, debt=0.6,\n",
    "                 debt_cost=0.08, equity=0.4, equity_cost=0.12, tax_rate=0.4, macrs_schedule=5, tol=1e-3, \n",
    "                 irr_years=20, debt_time=None):\n",
    "        \n",
    "        self.capacity_mw = capacity_mw\n",
    "        self.capacity_factor = capacity_factor\n",
    "        self.fuel_cost_per_mwh = fuel_cost_per_mbtu * heat_rate_btu_per_kwh / 1e9  #/ 1000 / 1e6\n",
    "        self.fixed_oam_per_kw = fixed_oam_per_kw\n",
    "        self.variable_oam_per_mwh = variable_oam_per_mwh\n",
    "        self.capital_cost_per_kw = capital_cost_per_kw\n",
    "        self.lifetime = lifetime\n",
    "        self.debt_time = debt_time if debt_time else lifetime\n",
    "        \n",
    "        self.oam_esc_rate = oam_esc_rate\n",
    "        self.debt = debt\n",
    "        self.debt_cost = debt_cost\n",
    "        self.equity = equity\n",
    "        self.equity_cost = equity_cost\n",
    "        self.tax_rate = tax_rate\n",
    "        self.macrs_schedule = macrs_schedule \n",
    "\n",
    "        self.capex = capital_cost_per_kw * capacity_mw / 1000  # x1000/1e6\n",
    "        self.loan = debt * self.capex\n",
    "        \n",
    "        # values from https://github.com/elasanchez/depreciation-engineering-econ-scripts\n",
    "        # if I understand well, they are set by law\n",
    "        self.macrs_dic = {\n",
    "            3: [0.3333, 0.4445, 0.1481, 0.0741],\n",
    "            5: [0.2, 0.32, 0.1920, 0.1152, 0.1152, 0.0576],\n",
    "            7: [0.1429,0.2449, 0.1749, 0.1249, 0.0893, 0.0892, 0.0893, 0.0446],\n",
    "            10: [0.1, 0.18, 0.144, 0.1152, 0.0922, 0.0737, 0.0655, 0.0655, 0.0656, 0.0655, 0.0328],\n",
    "            15: [0.05, 0.095, 0.0855, 0.077, 0.0693, 0.0623, 0.059, 0.059, 0.0591, 0.059, 0.0591, 0.059, 0.0591,\\\n",
    "                 0.059, 0.0591, 0.0295],\n",
    "            20: [0.0375, 0.07219, 0.06677, 0.06177, 0.05713, 0.05285, 0.04888, 0.04522, 0.04462, 0.04461, 0.04462,\\\n",
    "                 0.04461, 0.04462, 0.04461, 0.04462, 0.04461, 0.04462, 0.04461, 0.04462, 0.04461, 0.02231]\n",
    "        }\n",
    "        \n",
    "        self.tol = tol\n",
    "        self.irr_years = irr_years if irr_years else lifetime\n",
    "        self.build()\n",
    "    \n",
    "    def build(self, lcoe=None):\n",
    "        years = np.arange(1, self.lifetime + 1)\n",
    "        df = pd.DataFrame(index=years)\n",
    "                \n",
    "        # we start by computing everything we can compute without assuming a LCOE\n",
    "        df['capacity_mw'] = self.capacity_mw\n",
    "        df['capacity_factor'] = self.capacity_factor\n",
    "        df['generation_mwh'] = df.capacity_mw * df.capacity_factor * 24 * 365.25\n",
    "        \n",
    "        df['total_fuel_cost'] = self.fuel_cost_per_mwh * df.generation_mwh\n",
    "        fixed_oam = self.fixed_oam_per_kw * df.capacity_mw / 1000\n",
    "        variable_oam = self.variable_oam_per_mwh * df.generation_mwh / 1e6\n",
    "        total_oam_start = fixed_oam + variable_oam\n",
    "        df['total_oam'] = total_oam_start * (1 + self.oam_esc_rate)**(years - 1)\n",
    "        df['total_operating_cost'] = df.total_fuel_cost + df.total_oam\n",
    "        \n",
    "        df['debt_outstanding'] = self.loan\n",
    "        df.loc[:self.debt_time, 'debt_interest_expense'] = npf.ipmt(self.debt_cost, df.index[:self.debt_time], self.debt_time, self.loan)\n",
    "        df.loc[:self.debt_time,'debt_principal_payment'] = npf.ppmt(self.debt_cost, df.index[:self.debt_time], self.debt_time, self.loan)          \n",
    "        df['levelized_debt_service'] = df.debt_interest_expense + df.debt_principal_payment\n",
    "        df.loc[2:, 'debt_outstanding'] += df['debt_principal_payment'].cumsum().values[:-1]\n",
    "        df = df.fillna(0)\n",
    "        \n",
    "        depreciation = np.array(self.macrs_dic[self.macrs_schedule]) * self.capex\n",
    "        padding = [0] * (self.lifetime - self.macrs_schedule - 1) if self.lifetime > self.macrs_schedule else []\n",
    "        df['depreciation'] = list(-depreciation[:self.lifetime]) + padding\n",
    "        \n",
    "        # if a lcoe value is given, we can compute the rest\n",
    "        if lcoe:\n",
    "            df['lcoe'] = lcoe\n",
    "            df['total_revenues'] = df.generation_mwh * df.lcoe / 1e6\n",
    "\n",
    "            df['ebitda'] = df.total_revenues - df.total_operating_cost\n",
    "            df['taxable_income'] = df.ebitda + df.depreciation + df.debt_interest_expense\n",
    "            df['tax_benefit'] = - df.taxable_income * self.tax_rate\n",
    "            df['net_equity_cash_flow'] = df.ebitda + df.levelized_debt_service + df.tax_benefit\n",
    "            df.loc[0] = 0\n",
    "            df.loc[0, 'net_equity_cash_flow'] = - self.capex * self.equity\n",
    "            df = df.sort_index()\n",
    "            self.irr_equity_investors = npf.irr(df.loc[:self.irr_years+1, 'net_equity_cash_flow'])\n",
    "            \n",
    "        self.df = df\n",
    "        return self\n",
    "        \n",
    "    def find_lcoe(self, debug=False):\n",
    "        \"\"\"Optimization by dichotomy. IRR is monotonously increasing with LCOE, which makes it easy.\"\"\"\n",
    "        lb, ub = 1, 500\n",
    "        i = 0\n",
    "        res = []\n",
    "        while True:\n",
    "            lcoe = (lb + ub) / 2\n",
    "            self.build(lcoe)\n",
    "            irr = self.irr_equity_investors\n",
    "            res.append((lcoe, irr))\n",
    "            if debug:\n",
    "                print(round(lb, 5), round(ub, 5), end=' ')\n",
    "                \n",
    "            if abs(irr - self.equity_cost) < self.tol:\n",
    "                self.lcoe = lcoe\n",
    "                break\n",
    "            elif irr < self.equity_cost or np.isnan(irr):\n",
    "                # IRR is NaN if too negative\n",
    "                lb = lcoe\n",
    "            elif irr > self.equity_cost:\n",
    "                ub = lcoe\n",
    "                \n",
    "            if debug:\n",
    "                print(round(irr, 5), end=' | ')\n",
    "                \n",
    "            if i == 50:\n",
    "                lcoes, irrs = zip(*res)\n",
    "                indices = [i for i, irr in enumerate(irrs) if not np.isnan(irr)]\n",
    "                irrs = np.array(irrs)\n",
    "                lcoes = np.array(lcoes)\n",
    "                lcoes = lcoes[indices]\n",
    "                irrs = irrs[indices]\n",
    "                loss = np.absolute(irrs - self.equity_cost)\n",
    "                i = np.argmin(loss)\n",
    "                self.lcoe = lcoes[i]\n",
    "                print('IRR did not converge, returning LCOE for IRR = ', irrs[i])                        \n",
    "                break\n",
    "                \n",
    "            i += 1\n",
    "                \n",
    "        return self.lcoe\n",
    "    \n",
    "    def scan_irrs(self):\n",
    "        irrs = []\n",
    "        lcoes =  np.arange(1, 300, 5)\n",
    "        for lcoe in lcoes:\n",
    "            self.build(lcoe)\n",
    "            irrs.append(self.irr_equity_investors)\n",
    "        return lcoes, irrs\n",
    "    \n",
    "    def __repr__(self):\n",
    "        return pprint.pformat({k: v for k, v in vars(self).items() if k not in ['macrs_dic', 'years', 'df']})"
   ]
  },
  {
   "cell_type": "code",
   "execution_count": 3,
   "metadata": {},
   "outputs": [],
   "source": [
    "with open('power_plants_v13.yml') as f:\n",
    "    power = yaml.safe_load(f)\n",
    "    \n",
    "with open('lazard_estimates_v13.yml') as f:\n",
    "    lazard = yaml.safe_load(f)"
   ]
  },
  {
   "cell_type": "code",
   "execution_count": 6,
   "metadata": {},
   "outputs": [
    {
     "name": "stdout",
     "output_type": "stream",
     "text": [
      "Gas combined cycle\n",
      "\tMine:\t 42 - 67\n",
      "\tLazard:\t 44 - 68\n",
      "Pv community\n",
      "\tMine:\t 67 - 155\n",
      "\tLazard:\t 64 - 148\n",
      "Pv utility crystalline\n",
      "\tMine:\t 37 - 46\n",
      "\tLazard:\t 36 - 44\n",
      "Wind onshore\n",
      "\tMine:\t 29 - 58\n",
      "\tLazard:\t 28 - 54\n",
      "Geothermal\n",
      "\tMine:\t 72 - 118\n",
      "\tLazard:\t 69 - 112\n",
      "Nuclear\n",
      "\tMine:\t 121 - 198\n",
      "\tLazard:\t 118 - 192\n",
      "Gas peaking\n",
      "\tMine:\t 151 - 204\n",
      "\tLazard:\t 150 - 199\n",
      "Pv utility thin film\n",
      "\tMine:\t 35 - 42\n",
      "\tLazard:\t 32 - 42\n",
      "Pv rooftop cai\n",
      "\tMine:\t 79 - 163\n",
      "\tLazard:\t 75 - 154\n",
      "Coal\n",
      "\tMine:\t 66 - 155\n",
      "\tLazard:\t 66 - 152\n",
      "Pv rooftop residential\n",
      "\tMine:\t 159 - 255\n",
      "\tLazard:\t 151 - 242\n",
      "Solar thermal\n",
      "\tMine:\t 135 - 165\n",
      "\tLazard:\t 126 - 156\n",
      "Wind offshore\n",
      "\tMine:\t 68 - 122\n",
      "\tLazard:\t 64 - 115\n"
     ]
    }
   ],
   "source": [
    "for k, v in power.items():\n",
    "    print(' '.join(k.split('_')).capitalize())\n",
    "    model = LCOEModel(**v['low'])\n",
    "    print('\\tMine:\\t', round(model.find_lcoe()), end= ' - ')\n",
    "    model = LCOEModel(**v['high'])\n",
    "    print(round(model.find_lcoe()))\n",
    "    print('\\tLazard:\\t {} - {}'.format(lazard[k]['low'], lazard[k]['high']))"
   ]
  },
  {
   "cell_type": "markdown",
   "metadata": {},
   "source": [
    "### A few trials"
   ]
  },
  {
   "cell_type": "code",
   "execution_count": 5,
   "metadata": {},
   "outputs": [
    {
     "data": {
      "text/plain": [
       "71.6591796875"
      ]
     },
     "execution_count": 5,
     "metadata": {},
     "output_type": "execute_result"
    }
   ],
   "source": [
    "model = LCOEModel(**power['wind_onshore']['high'], macrs_schedule=20)\n",
    "model.find_lcoe()"
   ]
  },
  {
   "cell_type": "code",
   "execution_count": 6,
   "metadata": {
    "scrolled": true
   },
   "outputs": [
    {
     "data": {
      "text/plain": [
       "-31.34049233059311"
      ]
     },
     "execution_count": 6,
     "metadata": {},
     "output_type": "execute_result"
    }
   ],
   "source": [
    "model.build(57.5)\n",
    "npf.npv(0.12, model.df.net_equity_cash_flow)"
   ]
  },
  {
   "cell_type": "code",
   "execution_count": 7,
   "metadata": {},
   "outputs": [],
   "source": [
    "def df_to_markdown(df, float_format='%.2g'):\n",
    "    \"\"\"\n",
    "    Export a pandas.DataFrame to markdown-formatted text.\n",
    "    DataFrame should not contain any `|` characters.\n",
    "    \"\"\"\n",
    "    from os import linesep\n",
    "    return linesep.join([\n",
    "        '|'.join(df.columns),\n",
    "        '|'.join(4 * '-' for i in df.columns),\n",
    "        df.to_csv(sep='|', index=False, header=False, float_format=float_format)\n",
    "    ]).replace('|', ' | ')"
   ]
  },
  {
   "cell_type": "code",
   "execution_count": 8,
   "metadata": {
    "scrolled": true
   },
   "outputs": [
    {
     "data": {
      "text/plain": [
       "0.9257752166155484"
      ]
     },
     "execution_count": 8,
     "metadata": {},
     "output_type": "execute_result"
    }
   ],
   "source": [
    "model = LCOEModel(**power['wind_onshore']['high'])\n",
    "model.find_lcoe()\n",
    "r = 0.12\n",
    "npf.npv(r, model.df.net_equity_cash_flow[1:7]) / npf.npv(r, model.df.net_equity_cash_flow[1:])"
   ]
  },
  {
   "cell_type": "markdown",
   "metadata": {},
   "source": [
    "### My estimates"
   ]
  },
  {
   "cell_type": "code",
   "execution_count": 17,
   "metadata": {},
   "outputs": [],
   "source": [
    "techs = ['nuclear', 'wind_onshore', 'pv_utility_thin_film']\n",
    "p = {k: v.copy() for k, v in copy.deepcopy(power).items() if k in techs}"
   ]
  },
  {
   "cell_type": "code",
   "execution_count": 18,
   "metadata": {},
   "outputs": [],
   "source": [
    "for k, v in p.items():\n",
    "    for k2, v2 in v.items():\n",
    "        v2['irr_years'] = None"
   ]
  },
  {
   "cell_type": "code",
   "execution_count": 19,
   "metadata": {
    "scrolled": true
   },
   "outputs": [
    {
     "name": "stdout",
     "output_type": "stream",
     "text": [
      "Pv utility thin film : 35 - 42\n",
      "Nuclear : 119 - 194\n",
      "Wind onshore : 29 - 58\n"
     ]
    }
   ],
   "source": [
    "for k, v in p.items():\n",
    "    print(' '.join(k.split('_')).capitalize(), ':', end= ' ')\n",
    "    model = LCOEModel(**v['low'])\n",
    "    print(round(model.find_lcoe()), end= ' - ')\n",
    "    model = LCOEModel(**v['high'])\n",
    "    print(round(model.find_lcoe()))"
   ]
  },
  {
   "cell_type": "code",
   "execution_count": 20,
   "metadata": {},
   "outputs": [],
   "source": [
    "p['wind_onshore']['low']['capacity_factor'] = 0.5\n",
    "p['wind_onshore']['high']['capacity_factor'] = 0.25\n",
    "p['pv_utility_thin_film']['low']['capacity_factor'] = 0.25\n",
    "p['pv_utility_thin_film']['high']['capacity_factor'] = 0.15"
   ]
  },
  {
   "cell_type": "code",
   "execution_count": 21,
   "metadata": {},
   "outputs": [
    {
     "name": "stdout",
     "output_type": "stream",
     "text": [
      "Estimates - real capacity factor and lifetime\n",
      "Pv utility thin film : 48 - 64\n",
      "Nuclear : 119 - 194\n",
      "Wind onshore : 32 - 87\n"
     ]
    }
   ],
   "source": [
    "print('Estimates - real capacity factor and lifetime')\n",
    "for k, v in p.items():\n",
    "    print(' '.join(k.split('_')).capitalize(), ':', end= ' ')\n",
    "    model = LCOEModel(**v['low'])\n",
    "    print(round(model.find_lcoe()), end= ' - ')\n",
    "    model = LCOEModel(**v['high'])\n",
    "    print(round(model.find_lcoe()))"
   ]
  },
  {
   "cell_type": "code",
   "execution_count": 38,
   "metadata": {},
   "outputs": [
    {
     "name": "stdout",
     "output_type": "stream",
     "text": [
      "Estimates - 20 year MACRS\n",
      "wind_onshore 40 - 109\n",
      "pv_utility_thin_film 62 - 84\n"
     ]
    }
   ],
   "source": [
    "print('Estimates - 20 year MACRS')\n",
    "for k in ['wind_onshore', 'pv_utility_thin_film']:\n",
    "    v = p[k]\n",
    "    print(k, end=' ')\n",
    "    for k2 in ['low', 'high']:\n",
    "        d = copy.deepcopy(v[k2])\n",
    "        model = LCOEModel(**d, macrs_schedule=20)\n",
    "        if k2 == 'low':\n",
    "            print(round(model.find_lcoe()), end=' - ')\n",
    "        else:\n",
    "            print(round(model.find_lcoe()))"
   ]
  },
  {
   "cell_type": "markdown",
   "metadata": {},
   "source": [
    "### Plot of cash flow"
   ]
  },
  {
   "cell_type": "code",
   "execution_count": 13,
   "metadata": {},
   "outputs": [
    {
     "data": {
      "text/plain": [
       "118.927734375"
      ]
     },
     "execution_count": 13,
     "metadata": {},
     "output_type": "execute_result"
    }
   ],
   "source": [
    "wind_model = LCOEModel(**p['wind_onshore']['low'])\n",
    "wind_model.find_lcoe()\n",
    "solar_model = LCOEModel(**p['pv_utility_thin_film']['low'])\n",
    "solar_model.find_lcoe()\n",
    "nuclear_model = LCOEModel(**p['nuclear']['low'])\n",
    "nuclear_model.find_lcoe()"
   ]
  },
  {
   "cell_type": "code",
   "execution_count": 25,
   "metadata": {},
   "outputs": [],
   "source": [
    "def normalize(s):\n",
    "    return - s / s[0]"
   ]
  },
  {
   "cell_type": "code",
   "execution_count": 15,
   "metadata": {
    "scrolled": false
   },
   "outputs": [
    {
     "data": {
      "image/png": "[encoded data removed]",
      "text/plain": [
       "<Figure size 432x288 with 1 Axes>"
      ]
     },
     "metadata": {
      "needs_background": "light"
     },
     "output_type": "display_data"
    }
   ],
   "source": [
    "fig, ax = plt.subplots()\n",
    "ax.plot(normalize(wind_model.df.net_equity_cash_flow), label='wind')\n",
    "ax.plot(normalize(solar_model.df.net_equity_cash_flow), label='solar')\n",
    "ax.plot(normalize(nuclear_model.df.net_equity_cash_flow), label='nuclear')\n",
    "ax.set_xlabel('Time (years)')\n",
    "ax.set_ylabel('Normalized net equity cash flow')\n",
    "ax.legend(loc=0)\n",
    "fig.tight_layout()\n",
    "#fig.savefig('norm_cash_flow.svg')\n",
    "plt.show()"
   ]
  },
  {
   "cell_type": "markdown",
   "metadata": {},
   "source": [
    "### Changing the cost of capital"
   ]
  },
  {
   "cell_type": "code",
   "execution_count": 13,
   "metadata": {},
   "outputs": [],
   "source": [
    "capital_cost = [(0.01, 0.02), (0.02, 0.03), (0.02, 0.05), (0.03, 0.06), (0.05, 0.09), (0.06, 0.1), (0.08, 0.12)]\n",
    "waccs =  [0.5*equity_cost + 0.6*debt_cost*0.6 for debt_cost, equity_cost in capital_cost]"
   ]
  },
  {
   "cell_type": "code",
   "execution_count": 14,
   "metadata": {},
   "outputs": [],
   "source": [
    "a = {}\n",
    "for k, v in p.items():\n",
    "    a[k] = {'low': [], 'high': []}\n",
    "    for k2 in ['low', 'high']:\n",
    "        d = copy.deepcopy(v[k2])\n",
    "        for debt_cost, equity_cost in capital_cost:\n",
    "            d['debt_cost'] = debt_cost\n",
    "            d['equity_cost'] = equity_cost\n",
    "            model = LCOEModel(**d)\n",
    "            lcoe = model.find_lcoe()\n",
    "            a[k][k2].append(lcoe)"
   ]
  },
  {
   "cell_type": "code",
   "execution_count": 16,
   "metadata": {},
   "outputs": [
    {
     "data": {
      "image/png": "[encoded data removed]",
      "text/plain": [
       "<Figure size 432x288 with 1 Axes>"
      ]
     },
     "metadata": {
      "needs_background": "light"
     },
     "output_type": "display_data"
    }
   ],
   "source": [
    "fig, ax = plt.subplots()\n",
    "energies = ['wind_onshore', 'pv_utility_thin_film','nuclear']\n",
    "for k in energies:\n",
    "    v = a[k]\n",
    "    y1 = v['low']\n",
    "    y2 = v['high']\n",
    "    ax.fill_between(waccs, y1, y2, label=k)\n",
    "\n",
    "ax.set_ylabel('LCOE ($/MWh)')\n",
    "ax.set_xlabel('WACC')\n",
    "ax.legend(loc=2)\n",
    "fig.tight_layout()\n",
    "fig.savefig('sensitivity_to_capital.svg')\n",
    "\n",
    "plt.show()"
   ]
  },
  {
   "cell_type": "code",
   "execution_count": 61,
   "metadata": {},
   "outputs": [
    {
     "name": "stdout",
     "output_type": "stream",
     "text": [
      "WACC: 0.019200000000000002\n"
     ]
    }
   ],
   "source": [
    "debt = 0.6\n",
    "debt_cost = 0.02\n",
    "equity = 1 - debt\n",
    "equity_cost = 0.03\n",
    "print('WACC:', equity*equity_cost + debt*debt_cost*0.6)"
   ]
  },
  {
   "cell_type": "code",
   "execution_count": 62,
   "metadata": {},
   "outputs": [
    {
     "name": "stdout",
     "output_type": "stream",
     "text": [
      "Estimates - different capital cost\n",
      "wind_onshore 23 - 61\n",
      "pv_utility_thin_film 29 - 38\n",
      "nuclear 67 - 99\n"
     ]
    }
   ],
   "source": [
    "print('Estimates - different capital cost')\n",
    "for k, v in p.items():\n",
    "    print(k, end=' ')\n",
    "    for k2 in ['low', 'high']:\n",
    "        d = copy.deepcopy(v[k2])\n",
    "        d['debt'] = debt\n",
    "        d['debt_cost'] = debt_cost\n",
    "        d['equity'] = equity\n",
    "        d['equity_cost'] = equity_cost\n",
    "        model = LCOEModel(**d)\n",
    "        if k2 == 'low':\n",
    "            print(round(model.find_lcoe()), end=' - ')\n",
    "        else:\n",
    "            print(round(model.find_lcoe()))"
   ]
  },
  {
   "cell_type": "markdown",
   "metadata": {},
   "source": [
    "### Loan duration"
   ]
  },
  {
   "cell_type": "code",
   "execution_count": 110,
   "metadata": {},
   "outputs": [
    {
     "data": {
      "text/plain": [
       "-43630.892332368654"
      ]
     },
     "execution_count": 110,
     "metadata": {},
     "output_type": "execute_result"
    }
   ],
   "source": [
    "n = 60\n",
    "pv = 9000\n",
    "npf.pmt(0.08, n, pv) * n"
   ]
  },
  {
   "cell_type": "code",
   "execution_count": 22,
   "metadata": {},
   "outputs": [
    {
     "name": "stdout",
     "output_type": "stream",
     "text": [
      "38.5224609375\n",
      "64.349609375\n",
      "126.724609375\n"
     ]
    }
   ],
   "source": [
    "wind_model = LCOEModel(**p['wind_onshore']['low'], debt_time=8)\n",
    "print(wind_model.find_lcoe())\n",
    "solar_model = LCOEModel(**p['pv_utility_thin_film']['low'], debt_time=8)\n",
    "print(solar_model.find_lcoe())\n",
    "nuclear_model = LCOEModel(**p['nuclear']['low'], debt_time=25)\n",
    "print(nuclear_model.find_lcoe())"
   ]
  },
  {
   "cell_type": "code",
   "execution_count": 27,
   "metadata": {},
   "outputs": [
    {
     "data": {
      "image/png": "[encoded data removed]",
      "text/plain": [
       "<Figure size 432x288 with 1 Axes>"
      ]
     },
     "metadata": {
      "needs_background": "light"
     },
     "output_type": "display_data"
    }
   ],
   "source": [
    "fig, ax = plt.subplots()\n",
    "ax.plot(normalize(wind_model.df.net_equity_cash_flow), label='wind')\n",
    "ax.plot(normalize(solar_model.df.net_equity_cash_flow), label='solar')\n",
    "ax.plot(normalize(nuclear_model.df.net_equity_cash_flow), label='nuclear')\n",
    "ax.set_xlabel('Time (years)')\n",
    "ax.set_ylabel('Normalized net equity cash flow')\n",
    "ax.legend(loc=0)\n",
    "fig.tight_layout()\n",
    "fig.savefig('norm_cash_flow_2.svg')\n",
    "plt.show()"
   ]
  },
  {
   "cell_type": "code",
   "execution_count": 49,
   "metadata": {},
   "outputs": [
    {
     "name": "stdout",
     "output_type": "stream",
     "text": [
      "WACC: 0.019200000000000002\n"
     ]
    }
   ],
   "source": [
    "debt = 0.6\n",
    "debt_cost = 0.02\n",
    "equity = 1 - debt\n",
    "equity_cost = 0.03\n",
    "print('WACC:', equity*equity_cost + debt*debt_cost*0.6)"
   ]
  },
  {
   "cell_type": "code",
   "execution_count": 50,
   "metadata": {},
   "outputs": [
    {
     "name": "stdout",
     "output_type": "stream",
     "text": [
      "Estimates - different capital cost with amortization\n",
      "pv_utility_thin_film 32 - 43\n",
      "nuclear 70 - 104\n",
      "wind_onshore 24 - 65\n"
     ]
    }
   ],
   "source": [
    "print('Estimates - different capital cost with amortization')\n",
    "for k, v in p.items():\n",
    "    print(k, end=' ')\n",
    "    debt_time = 25 if k == 'nuclear' else 8\n",
    "    for k2 in ['low', 'high']:\n",
    "        d = copy.deepcopy(v[k2])\n",
    "        d['debt'] = debt\n",
    "        d['debt_cost'] = debt_cost\n",
    "        d['equity'] = equity\n",
    "        d['equity_cost'] = equity_cost\n",
    "        model = LCOEModel(**d, debt_time=debt_time)\n",
    "        if k2 == 'low':\n",
    "            print(round(model.find_lcoe()), end=' - ')\n",
    "        else:\n",
    "            print(round(model.find_lcoe()))"
   ]
  },
  {
   "cell_type": "code",
   "execution_count": 31,
   "metadata": {},
   "outputs": [
    {
     "name": "stdout",
     "output_type": "stream",
     "text": [
      "40 : 70 - 104\n",
      "60 : 68 - 99\n",
      "80 : IRR did not converge, returning LCOE for IRR =  0.07782909273875593\n",
      "88.0 - 100\n"
     ]
    }
   ],
   "source": [
    "for lifetime in [40, 60, 80]:\n",
    "    print(lifetime, end=' : ')\n",
    "    for k in ['low', 'high']:\n",
    "        v = p['nuclear'][k]\n",
    "        d = copy.deepcopy(v)\n",
    "        d['lifetime'] = lifetime\n",
    "        d['debt'] = debt\n",
    "        d['debt_cost'] = debt_cost\n",
    "        d['equity'] = equity\n",
    "        d['equity_cost'] = equity_cost\n",
    "        model = LCOEModel(**d, debt_time=25)\n",
    "        if k == 'low':\n",
    "            print(round(model.find_lcoe()), end=' - ')\n",
    "        else:\n",
    "            print(round(model.find_lcoe()))"
   ]
  },
  {
   "cell_type": "markdown",
   "metadata": {},
   "source": [
    "## A few tests"
   ]
  },
  {
   "cell_type": "code",
   "execution_count": 122,
   "metadata": {},
   "outputs": [
    {
     "name": "stdout",
     "output_type": "stream",
     "text": [
      "WACC: 0.019200000000000002\n"
     ]
    }
   ],
   "source": [
    "debt = 0.6\n",
    "debt_cost = 0.02\n",
    "equity = 1 - debt\n",
    "equity_cost = 0.03\n",
    "print('WACC:', equity*equity_cost + debt*debt_cost*0.6)"
   ]
  },
  {
   "cell_type": "code",
   "execution_count": 120,
   "metadata": {},
   "outputs": [
    {
     "data": {
      "text/plain": [
       "-4.734992102133139"
      ]
     },
     "execution_count": 120,
     "metadata": {},
     "output_type": "execute_result"
    }
   ],
   "source": []
  }
 ],
 "metadata": {
  "anaconda-cloud": {},
  "kernelspec": {
   "display_name": "base",
   "language": "python",
   "name": "base"
  },
  "language_info": {
   "codemirror_mode": {
    "name": "ipython",
    "version": 3
   },
   "file_extension": ".py",
   "mimetype": "text/x-python",
   "name": "python",
   "nbconvert_exporter": "python",
   "pygments_lexer": "ipython3",
   "version": "3.5.2"
  }
 },
 "nbformat": 4,
 "nbformat_minor": 2
}
