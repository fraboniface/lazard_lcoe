{
 "cells": [
  {
   "cell_type": "code",
   "execution_count": 1,
   "metadata": {
    "collapsed": true
   },
   "outputs": [],
   "source": [
    "import numpy as np\n",
    "import pandas as pd\n",
    "import pprint\n",
    "%matplotlib inline\n",
    "import matplotlib.pyplot as plt\n",
    "import yaml"
   ]
  },
  {
   "cell_type": "code",
   "execution_count": 9,
   "metadata": {
    "collapsed": true
   },
   "outputs": [],
   "source": [
    "class LCOEModel:\n",
    "    \"\"\"\n",
    "    Class to reproduce Lazard's LCOE results. Monetary amounts are in millions.\n",
    "    https://www.lazard.com/media/450784/lazards-levelized-cost-of-energy-version-120-vfinal.pdf\n",
    "    Construction time does not count because it is included in the capital cost.\n",
    "    \"\"\"\n",
    "    def __init__(self, capacity_mw, capacity_factor, fixed_oam_per_kw, capital_cost_per_kw, lifetime,\n",
    "                 variable_oam_per_mwh=0, fuel_cost_per_mbtu=0, heat_rate_btu_per_kwh=0, oam_esc_rate=0.0225, debt=0.6,\n",
    "                 debt_cost=0.08, equity=0.4, equity_cost=0.12, tax_rate=0.4, macrs_schedule=5, tol=1e-3, irr_years=20):\n",
    "        \n",
    "        self.capacity_mw = capacity_mw\n",
    "        self.capacity_factor = capacity_factor\n",
    "        self.fuel_cost_per_mwh = fuel_cost_per_mbtu * heat_rate_btu_per_kwh / 1e9  #/ 1000 / 1e6\n",
    "        self.fixed_oam_per_kw = fixed_oam_per_kw\n",
    "        self.variable_oam_per_mwh = variable_oam_per_mwh\n",
    "        self.capital_cost_per_kw = capital_cost_per_kw\n",
    "        self.lifetime = lifetime\n",
    "        \n",
    "        self.oam_esc_rate = oam_esc_rate\n",
    "        self.debt = debt\n",
    "        self.debt_cost = debt_cost\n",
    "        self.equity = equity\n",
    "        self.equity_cost = equity_cost\n",
    "        self.tax_rate = tax_rate\n",
    "        self.macrs_schedule = macrs_schedule \n",
    "\n",
    "        self.capex = capital_cost_per_kw * capacity_mw / 1000  # x1000/1e6\n",
    "        self.loan = debt * self.capex\n",
    "        \n",
    "        # values from https://github.com/elasanchez/depreciation-engineering-econ-scripts\n",
    "        # if I understand well, they are set by law\n",
    "        self.macrs_dic = {\n",
    "            3: [0.3333, 0.4445, 0.1481, 0.0741],\n",
    "            5: [0.2, 0.32, 0.1920, 0.1152, 0.1152, 0.0576],\n",
    "            7: [0.1429,0.2449, 0.1749, 0.1249, 0.0893, 0.0892, 0.0893, 0.0446],\n",
    "            10: [0.1, 0.18, 0.144, 0.1152, 0.0922, 0.0737, 0.0655, 0.0655, 0.0656, 0.0655, 0.0328],\n",
    "            15: [0.05, 0.095, 0.0855, 0.077, 0.0693, 0.0623, 0.059, 0.059, 0.0591, 0.059, 0.0591, 0.059, 0.0591,\\\n",
    "                 0.059, 0.0591, 0.0295],\n",
    "            20: [0.0375, 0.07219, 0.06677, 0.06177, 0.05713, 0.05285, 0.04888, 0.04522, 0.04462, 0.04461, 0.04462,\\\n",
    "                 0.04461, 0.04462, 0.04461, 0.04462, 0.04461, 0.04462, 0.04461, 0.04462, 0.04461, 0.02231]\n",
    "        }\n",
    "        \n",
    "        self.tol = tol\n",
    "        self.irr_years = irr_years\n",
    "        self.build()\n",
    "    \n",
    "    def build(self, lcoe=None):\n",
    "        years = np.arange(1, self.lifetime + 1)\n",
    "        df = pd.DataFrame(index=years)\n",
    "                \n",
    "        # we start by computing everything we can compute without assuming a LCOE\n",
    "        df['capacity_mw'] = self.capacity_mw\n",
    "        df['capacity_factor'] = self.capacity_factor\n",
    "        df['generation_mwh'] = df.capacity_mw * df.capacity_factor * 24 * 365.25\n",
    "        \n",
    "        df['total_fuel_cost'] = self.fuel_cost_per_mwh * df.generation_mwh\n",
    "        fixed_oam = self.fixed_oam_per_kw * df.capacity_mw / 1000\n",
    "        variable_oam = self.variable_oam_per_mwh * df.generation_mwh / 1e6\n",
    "        total_oam_start = fixed_oam + variable_oam\n",
    "        df['total_oam'] = total_oam_start * (1 + self.oam_esc_rate)**(years - 1)\n",
    "        df['total_operating_cost'] = df.total_fuel_cost + df.total_oam\n",
    "        \n",
    "        df['debt_outstanding'] = self.loan\n",
    "        df['debt_interest_expense'] = np.ipmt(self.debt_cost, df.index, self.lifetime, self.loan)\n",
    "        df['debt_principal_payment'] = np.ppmt(self.debt_cost, df.index, self.lifetime, self.loan)          \n",
    "        df['levelized_debt_service'] = df.debt_interest_expense + df.debt_principal_payment\n",
    "        df.loc[2:, 'debt_outstanding'] += df['debt_principal_payment'].cumsum().values[:-1]\n",
    "        \n",
    "        depreciation = np.array(self.macrs_dic[self.macrs_schedule]) * self.capex\n",
    "        padding = [0] * (self.lifetime - self.macrs_schedule - 1) if self.lifetime > self.macrs_schedule else []\n",
    "        df['depreciation'] = list(-depreciation[:self.lifetime]) + padding\n",
    "        \n",
    "        # if a lcoe value is given, we can compute the rest\n",
    "        if lcoe:\n",
    "            df['lcoe'] = lcoe\n",
    "            df['total_revenues'] = df.generation_mwh * df.lcoe / 1e6\n",
    "\n",
    "            df['ebitda'] = df.total_revenues - df.total_operating_cost\n",
    "            df['taxable_income'] = df.ebitda + df.depreciation + df.debt_interest_expense\n",
    "            df['tax_benefit'] = - df.taxable_income * self.tax_rate\n",
    "            df['net_equity_cash_flow'] = df.ebitda + df.levelized_debt_service + df.tax_benefit\n",
    "            df.loc[0] = 0\n",
    "            df.loc[0, 'net_equity_cash_flow'] = - self.capex * self.equity\n",
    "            df = df.sort_index()\n",
    "            self.irr_equity_investors = np.irr(df.loc[:self.irr_years+1, 'net_equity_cash_flow'])\n",
    "            \n",
    "        self.df = df\n",
    "        return self\n",
    "        \n",
    "    def find_lcoe(self, debug=False):\n",
    "        \"\"\"Optimization by dichotomy. IRR is monotonously increasing with LCOE, which makes it easy.\"\"\"\n",
    "        lb, ub = 1, 500\n",
    "        i = 0\n",
    "        while True:\n",
    "            lcoe = (lb + ub) / 2\n",
    "            self.build(lcoe)\n",
    "            irr = self.irr_equity_investors\n",
    "            if debug:\n",
    "                print(round(lb, 5), round(ub, 5), end=' ')\n",
    "                \n",
    "            if abs(irr - self.equity_cost) < self.tol:\n",
    "                self.lcoe = lcoe\n",
    "                break\n",
    "            elif irr < self.equity_cost or np.isnan(irr):\n",
    "                # IRR is NaN if too negative\n",
    "                lb = lcoe\n",
    "            elif irr > self.equity_cost:\n",
    "                ub = lcoe\n",
    "                \n",
    "            if debug:\n",
    "                print(round(irr, 5), end=' | ')\n",
    "                \n",
    "            if i == 50:\n",
    "                print('Project is not viable')\n",
    "                self.lcoe = '>500'\n",
    "                break\n",
    "                \n",
    "            i += 1\n",
    "                \n",
    "        return self.lcoe\n",
    "    \n",
    "    def scan_irrs(self):\n",
    "        irrs = []\n",
    "        lcoes =  np.arange(1, 300, 5)\n",
    "        for lcoe in lcoes:\n",
    "            self.build(lcoe)\n",
    "            irrs.append(self.irr_equity_investors)\n",
    "        return lcoes, irrs\n",
    "    \n",
    "    def __repr__(self):\n",
    "        return pprint.pformat({k: v for k, v in vars(self).items() if k not in ['macrs_dic', 'years', 'df']})"
   ]
  },
  {
   "cell_type": "code",
   "execution_count": 10,
   "metadata": {
    "collapsed": true
   },
   "outputs": [],
   "source": [
    "with open('power_plants.yml') as f:\n",
    "    power = yaml.load(f)\n",
    "    \n",
    "with open('lazard_estimates.yml') as f:\n",
    "    lazard = yaml.load(f)"
   ]
  },
  {
   "cell_type": "code",
   "execution_count": 11,
   "metadata": {},
   "outputs": [
    {
     "name": "stdout",
     "output_type": "stream",
     "text": [
      "Fuel cell\n",
      "\tMine:\t 101 - 153\n",
      "\tLazard:\t 103 - 152\n",
      "Wind onshore\n",
      "\tMine:\t 30 - 58\n",
      "\tLazard:\t 29 - 56\n",
      "Gas peaking\n",
      "\tMine:\t 150 - 207\n",
      "\tLazard:\t 152 - 206\n",
      "Wind offshore\n",
      "\tMine:\t 65 - 128\n",
      "\tLazard:\t 62 - 121\n",
      "Pv rooftop residential\n",
      "\tMine:\t 167 - 279\n",
      "\tLazard:\t 160 - 267\n",
      "Coal\n",
      "\tMine:\t 59 - 144\n",
      "\tLazard:\t 60 - 143\n",
      "Pv rooftop cai\n",
      "\tMine:\t 84 - 178\n",
      "\tLazard:\t 81 - 170\n",
      "Pv community\n",
      "\tMine:\t 77 - 152\n",
      "\tLazard:\t 73 - 145\n",
      "Pv utility thin film\n",
      "\tMine:\t 39 - 44\n",
      "\tLazard:\t 36 - 44\n",
      "Nuclear\n",
      "\tMine:\t 114 - 195\n",
      "\tLazard:\t 112 - 189\n",
      "Solar thermal\n",
      "\tMine:\t 100 - 192\n",
      "\tLazard:\t 98 - 181\n",
      "Gas combined cycle\n",
      "\tMine:\t 39 - 51\n",
      "\tLazard:\t 41 - 74\n",
      "Pv utility crystalline\n",
      "\tMine:\t 41 - 48\n",
      "\tLazard:\t 40 - 46\n",
      "Geothermal\n",
      "\tMine:\t 74 - 116\n",
      "\tLazard:\t 71 - 111\n"
     ]
    }
   ],
   "source": [
    "for k, v in power.items():\n",
    "    print(' '.join(k.split('_')).capitalize())\n",
    "    model = LCOEModel(**v['low'])\n",
    "    print('\\tMine:\\t', int(model.find_lcoe()), end= ' - ')\n",
    "    model = LCOEModel(**v['high'])\n",
    "    print(int(model.find_lcoe()))\n",
    "    print('\\tLazard:\\t {} - {}'.format(lazard[k]['low'], lazard[k]['high']))"
   ]
  },
  {
   "cell_type": "markdown",
   "metadata": {},
   "source": [
    "All but gas are very close to Lazard's results.\n",
    "### My estimates"
   ]
  },
  {
   "cell_type": "code",
   "execution_count": 46,
   "metadata": {},
   "outputs": [
    {
     "name": "stdout",
     "output_type": "stream",
     "text": [
      "Onshore wind - Real capacity factor\n",
      "Low estimate: 41.93359375\n",
      "High estimate: 89.689453125\n"
     ]
    }
   ],
   "source": [
    "print('Onshore wind - Real capacity factor')\n",
    "a = power['wind_onshore']\n",
    "d = a['low'].copy()\n",
    "d['capacity_factor'] = 0.4\n",
    "model = LCOEModel(**d)\n",
    "print('Low estimate:', model.find_lcoe())\n",
    "d = a['high'].copy()\n",
    "d['capacity_factor'] = 0.25\n",
    "model = LCOEModel(**d)\n",
    "print('High estimate:', model.find_lcoe())"
   ]
  },
  {
   "cell_type": "code",
   "execution_count": 47,
   "metadata": {},
   "outputs": [
    {
     "name": "stdout",
     "output_type": "stream",
     "text": [
      "PV utility scale - Real capacity factor\n",
      "Low estimate: 53.38525390625\n",
      "High estimate: 84.3291015625\n"
     ]
    }
   ],
   "source": [
    "print('PV utility scale - Real capacity factor')\n",
    "a = power['pv_utility_crystalline']\n",
    "d = a['low'].copy()\n",
    "d['capacity_factor'] = 0.25\n",
    "model = LCOEModel(**d)\n",
    "print('Low estimate:', model.find_lcoe())\n",
    "d = a['high'].copy()\n",
    "d['capacity_factor'] = 0.12\n",
    "model = LCOEModel(**d)\n",
    "print('High estimate:', model.find_lcoe())"
   ]
  },
  {
   "cell_type": "code",
   "execution_count": 52,
   "metadata": {},
   "outputs": [
    {
     "name": "stdout",
     "output_type": "stream",
     "text": [
      "Nuclear - Adapted debt structure\n",
      "Low estimate: 58.0146484375\n",
      "High estimate: 88.71484375\n"
     ]
    }
   ],
   "source": [
    "print('Nuclear - Adapted debt structure')\n",
    "a = power['nuclear']\n",
    "d = a['low'].copy()\n",
    "d['debt'] = 0.8\n",
    "d['debt_cost'] = 0.02\n",
    "d['equity'] = 0.2\n",
    "#d['equity_cost'] = 0.08\n",
    "d['lifetime'] = 60\n",
    "model = LCOEModel(**d)\n",
    "print('Low estimate:', model.find_lcoe())\n",
    "d = a['high'].copy()\n",
    "d['debt'] = 0.8\n",
    "d['debt_cost'] = 0.02\n",
    "d['equity'] = 0.2\n",
    "#d['equity_cost'] = 0.08\n",
    "d['lifetime'] = 60\n",
    "model = LCOEModel(**d)\n",
    "print('High estimate:', model.find_lcoe())"
   ]
  },
  {
   "cell_type": "markdown",
   "metadata": {},
   "source": [
    "That's much better. Let's give the same debt cost to solar and wind to be fair. I tried with the same financing structure but it makes them unviable."
   ]
  },
  {
   "cell_type": "code",
   "execution_count": 45,
   "metadata": {},
   "outputs": [
    {
     "name": "stdout",
     "output_type": "stream",
     "text": [
      "Onshore wind - Real with low debt cost\n",
      "Low estimate: 34.989501953125\n",
      "High estimate: 74.82666015625\n"
     ]
    }
   ],
   "source": [
    "print('Onshore wind - Real capacity factor and low debt cost')\n",
    "a = power['wind_onshore']\n",
    "d = a['low'].copy()\n",
    "d['capacity_factor'] = 0.4\n",
    "d['debt_cost'] = 0.02\n",
    "model = LCOEModel(**d)\n",
    "print('Low estimate:', model.find_lcoe())\n",
    "d = a['high'].copy()\n",
    "d['capacity_factor'] = 0.25\n",
    "d['debt_cost'] = 0.02\n",
    "model = LCOEModel(**d)\n",
    "print('High estimate:', model.find_lcoe())"
   ]
  },
  {
   "cell_type": "code",
   "execution_count": 53,
   "metadata": {},
   "outputs": [
    {
     "name": "stdout",
     "output_type": "stream",
     "text": [
      "PV utility scale - Real capacity factor and low debt cost\n",
      "Low estimate: 41.20263671875\n",
      "High estimate: 64.8369140625\n"
     ]
    }
   ],
   "source": [
    "print('PV utility scale - Real capacity factor and low debt cost')\n",
    "a = power['pv_utility_crystalline']\n",
    "d = a['low'].copy()\n",
    "d['capacity_factor'] = 0.25\n",
    "d['debt_cost'] = 0.02\n",
    "model = LCOEModel(**d)\n",
    "print('Low estimate:', model.find_lcoe())\n",
    "d = a['high'].copy()\n",
    "d['capacity_factor'] = 0.12\n",
    "d['debt_cost'] = 0.02\n",
    "model = LCOEModel(**d)\n",
    "print('High estimate:', model.find_lcoe())"
   ]
  },
  {
   "cell_type": "markdown",
   "metadata": {},
   "source": [
    "It's cheaper but the difference is not nearly as significant as with nuclear."
   ]
  }
 ],
 "metadata": {
  "anaconda-cloud": {},
  "kernelspec": {
   "display_name": "Python [conda root]",
   "language": "python",
   "name": "conda-root-py"
  },
  "language_info": {
   "codemirror_mode": {
    "name": "ipython",
    "version": 3
   },
   "file_extension": ".py",
   "mimetype": "text/x-python",
   "name": "python",
   "nbconvert_exporter": "python",
   "pygments_lexer": "ipython3",
   "version": "3.5.6"
  }
 },
 "nbformat": 4,
 "nbformat_minor": 2
}
